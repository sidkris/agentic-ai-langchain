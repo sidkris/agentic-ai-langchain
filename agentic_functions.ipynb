{
 "cells": [
  {
   "cell_type": "code",
   "execution_count": 1,
   "id": "5ea32a68",
   "metadata": {},
   "outputs": [
    {
     "data": {
      "text/plain": [
       "True"
      ]
     },
     "execution_count": 1,
     "metadata": {},
     "output_type": "execute_result"
    }
   ],
   "source": [
    "from typing import Annotated\n",
    "import wikipedia\n",
    "from langchain_core.tools import tool \n",
    "import pandas as pd \n",
    "import numpy as np \n",
    "from alpha_vantage.timeseries import TimeSeries\n",
    "import os\n",
    "from dotenv import load_dotenv\n",
    "\n",
    "load_dotenv()"
   ]
  },
  {
   "cell_type": "code",
   "execution_count": 2,
   "id": "0bfe4529",
   "metadata": {},
   "outputs": [],
   "source": [
    "@tool \n",
    "def wikipedia_tool(query : Annotated[str, \"Execute wikipedia search to find key summary information about a given topic.\"]) -> str :\n",
    "    \"\"\"Use this to search Wikipedia for factual information.\"\"\"\n",
    "    try:\n",
    "        results = wikipedia.search(query)\n",
    "\n",
    "        if not results:\n",
    "            return \"No results found on Wikipedia for this topic.\"\n",
    "        \n",
    "        title = results[0]\n",
    "\n",
    "        summary = wikipedia.summary(title, sentences = 5, auto_suggest = False, redirect = True)\n",
    "\n",
    "    except Exception as e :\n",
    "        return f\"Failed to Execute : {e}\"\n",
    "\n",
    "    result_string = f\"\\n\\nWIKIPEDIA SUMMARY:\\n{summary}\\n\\n\"\n",
    "\n",
    "    return result_string"
   ]
  },
  {
   "cell_type": "code",
   "execution_count": 3,
   "id": "eebb9899",
   "metadata": {},
   "outputs": [],
   "source": [
    "summary = wikipedia_tool.invoke(\"Generative AI\")"
   ]
  },
  {
   "cell_type": "code",
   "execution_count": 4,
   "id": "e9a2f1f3",
   "metadata": {},
   "outputs": [
    {
     "name": "stdout",
     "output_type": "stream",
     "text": [
      "\n",
      "\n",
      "WIKIPEDIA SUMMARY:\n",
      "Generative artificial intelligence (Generative AI, GenAI, or GAI) is a subfield of artificial intelligence that uses generative models to produce text, images, videos, or other forms of data. These models learn the underlying patterns and structures of their training data and use them to produce new data based on the input, which often comes in the form of natural language prompts.\n",
      "Generative AI tools have become more common since the AI boom in the 2020s. This boom was made possible by improvements in transformer-based deep neural networks, particularly large language models (LLMs). Major tools include chatbots such as ChatGPT, Copilot, Gemini, Claude, Grok, and DeepSeek; text-to-image models such as Stable Diffusion, Midjourney, and DALL-E; and text-to-video models such as Veo, LTXV and Sora.\n",
      "\n",
      "\n"
     ]
    }
   ],
   "source": [
    "print(summary)"
   ]
  },
  {
   "cell_type": "code",
   "execution_count": 5,
   "id": "32bbbf06",
   "metadata": {},
   "outputs": [],
   "source": [
    "@tool \n",
    "def historical_stock_price_data_tool(\n",
    "    company_ticker : Annotated[str, \"The ticker symbol of the company to retrieve their stock histrical stock price data.\"],\n",
    "    num_days : Annotated[int, \"The number of days of stock data required to respond to the user query.\"]\n",
    "    ) -> pd.DataFrame | str :\n",
    "    \"\"\"FETCHES HISTORICAL STOCK PRICE DATA FOR A GIVEN TICKER USING ALPHA VANTAGE\"\"\"\n",
    "    \n",
    "    ts = TimeSeries(key = os.getenv(\"ALPHA_VANTANGE_API_KEY\"))\n",
    "    data, metadata = ts.get_daily(symbol = company_ticker, outputsize = \"full\")\n",
    "\n",
    "    data_df = pd.DataFrame(data)\n",
    "    data_df = data_df.transpose()\n",
    "    data_df.rename(columns = {\"1. open\" : \"Open\", '2. high' : \"High\", '3. low' : \"Low\", '4. close' : \"Close\", '5. volume' : \"Volume\"}, inplace = True)\n",
    "    data_df.to_csv(f\"{company_ticker}.csv\")\n",
    "\n",
    "    max_number_of_days = len(data_df)\n",
    "\n",
    "    if num_days > max_number_of_days:\n",
    "        return \"Insufficient Data : The date range requested exceeds the dataset's date range.\"\n",
    "    \n",
    "    else:\n",
    "        print(f\"Successfully extracted historical stock price data for {company_ticker}\")\n",
    "        return data_df\n",
    "    "
   ]
  },
  {
   "cell_type": "code",
   "execution_count": 9,
   "id": "4c4a5646",
   "metadata": {},
   "outputs": [
    {
     "name": "stdout",
     "output_type": "stream",
     "text": [
      "Successfully extracted historical stock price data for NVDA\n"
     ]
    }
   ],
   "source": [
    "df = historical_stock_price_data_tool.invoke(\n",
    "    {\"company_ticker\": \"NVDA\",\n",
    "    \"num_days\": 100}\n",
    "    )"
   ]
  },
  {
   "cell_type": "code",
   "execution_count": null,
   "id": "02513398",
   "metadata": {},
   "outputs": [],
   "source": []
  }
 ],
 "metadata": {
  "kernelspec": {
   "display_name": "Python 3",
   "language": "python",
   "name": "python3"
  },
  "language_info": {
   "codemirror_mode": {
    "name": "ipython",
    "version": 3
   },
   "file_extension": ".py",
   "mimetype": "text/x-python",
   "name": "python",
   "nbconvert_exporter": "python",
   "pygments_lexer": "ipython3",
   "version": "3.11.6"
  }
 },
 "nbformat": 4,
 "nbformat_minor": 5
}
