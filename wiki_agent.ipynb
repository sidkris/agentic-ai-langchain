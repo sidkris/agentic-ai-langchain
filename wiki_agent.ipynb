{
 "cells": [
  {
   "cell_type": "code",
   "execution_count": 16,
   "id": "5ea32a68",
   "metadata": {},
   "outputs": [],
   "source": [
    "from typing import Annotated\n",
    "import wikipedia\n",
    "from langchain_core.tools import tool \n",
    "import pandas as pd \n",
    "import numpy as np "
   ]
  },
  {
   "cell_type": "code",
   "execution_count": 17,
   "id": "0bfe4529",
   "metadata": {},
   "outputs": [],
   "source": [
    "@tool \n",
    "def wikipedia_tool(query : Annotated[str, \"Execute wikipedia search to find key summary information about a given topic.\"]):\n",
    "    \"\"\"Use this to search Wikipedia for factual information.\"\"\"\n",
    "    try:\n",
    "        results = wikipedia.search(query)\n",
    "\n",
    "        if not results:\n",
    "            return \"No results found on Wikipedia for this topic.\"\n",
    "        \n",
    "        title = results[0]\n",
    "\n",
    "        summary = wikipedia.summary(title, sentences = 5, auto_suggest = False, redirect = True)\n",
    "\n",
    "    except Exception as e :\n",
    "        return f\"Failed to Execute : {e}\"\n",
    "\n",
    "    result_string = f\"\\n\\nWIKIPEDIA SUMMARY:\\n{summary}\\n\\n\"\n",
    "\n",
    "    return result_string"
   ]
  },
  {
   "cell_type": "code",
   "execution_count": 18,
   "id": "eebb9899",
   "metadata": {},
   "outputs": [],
   "source": [
    "summary = wikipedia_tool.invoke(\"Generative AI\")"
   ]
  },
  {
   "cell_type": "code",
   "execution_count": 19,
   "id": "e9a2f1f3",
   "metadata": {},
   "outputs": [
    {
     "name": "stdout",
     "output_type": "stream",
     "text": [
      "\n",
      "\n",
      "WIKIPEDIA SUMMARY:\n",
      "Generative artificial intelligence (Generative AI, GenAI, or GAI) is a subfield of artificial intelligence that uses generative models to produce text, images, videos, or other forms of data. These models learn the underlying patterns and structures of their training data and use them to produce new data based on the input, which often comes in the form of natural language prompts.\n",
      "Generative AI tools have become more common since the AI boom in the 2020s. This boom was made possible by improvements in transformer-based deep neural networks, particularly large language models (LLMs). Major tools include chatbots such as ChatGPT, Copilot, Gemini, Claude, Grok, and DeepSeek; text-to-image models such as Stable Diffusion, Midjourney, and DALL-E; and text-to-video models such as Veo, LTXV and Sora.\n",
      "\n",
      "\n"
     ]
    }
   ],
   "source": [
    "print(summary)"
   ]
  },
  {
   "cell_type": "code",
   "execution_count": null,
   "id": "32bbbf06",
   "metadata": {},
   "outputs": [],
   "source": []
  }
 ],
 "metadata": {
  "kernelspec": {
   "display_name": "Python 3",
   "language": "python",
   "name": "python3"
  },
  "language_info": {
   "codemirror_mode": {
    "name": "ipython",
    "version": 3
   },
   "file_extension": ".py",
   "mimetype": "text/x-python",
   "name": "python",
   "nbconvert_exporter": "python",
   "pygments_lexer": "ipython3",
   "version": "3.11.6"
  }
 },
 "nbformat": 4,
 "nbformat_minor": 5
}
